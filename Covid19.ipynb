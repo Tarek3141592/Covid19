{
 "cells": [
  {
   "cell_type": "code",
   "execution_count": null,
   "metadata": {},
   "outputs": [],
   "source": [
    "import pandas as pd\n",
    "import numpy as np\n",
    "import matplotlib.pyplot as plt"
   ]
  },
  {
   "cell_type": "code",
   "execution_count": null,
   "metadata": {},
   "outputs": [],
   "source": [
    "mainpath='../csse_covid_19_data/csse_covid_19_time_series/'"
   ]
  },
  {
   "cell_type": "code",
   "execution_count": null,
   "metadata": {},
   "outputs": [],
   "source": [
    "def getCountryStats(country='World'):\n",
    "    data=dict()\n",
    "\n",
    "    for case in ['Confirmed','Deaths','Recovered']:            \n",
    "        df=pd.read_csv(mainpath+'time_series_19-covid-{}.csv'.format(case))\n",
    "        days=df.columns[4:]\n",
    "        \n",
    "        if country.lower()!='world':\n",
    "            isCountry=df['Country/Region']==country\n",
    "            df=df[isCountry]\n",
    "            \n",
    "        data[case]= {'days':days,'people':np.array(df[days].sum())}   \n",
    "    \n",
    "    start=data['Confirmed']['people']>0\n",
    "    print('COVID-19 first day in {}: {}'.format(country,data['Confirmed']['days'][start][0])) \n",
    "    \n",
    "    print('TOTAL CASES IN {}'.format(country.upper()))\n",
    "    print('================')\n",
    "    for case in ['Confirmed','Deaths','Recovered']:\n",
    "        print('{:9s}: {:6d}'.format(case,int(max(data[case]['people']))))\n",
    "        \n",
    "    plt.figure(figsize=(18,6))       \n",
    "    for case in ['Confirmed','Deaths','Recovered']:\n",
    "        plt.plot_date(data[case]['days'][start],data[case]['people'][start],'-o',label=case)\n",
    "    plt.title('{} COVID-19 cases'.format(country))\n",
    "    plt.ylabel('Cases')\n",
    "    plt.xlabel('Days')\n",
    "    plt.legend()\n",
    "    \n",
    "    plt.grid()\n",
    "    if max(data['Confirmed']['people'])>15000:\n",
    "        plt.yscale('log')\n",
    "    if len(data[case]['days'][start])>30:\n",
    "        plt.xticks(data[case]['days'][start][::3])\n",
    "    plt.tick_params(axis='x',rotation=90)\n",
    "    plt.savefig('Plots/{}.png'.format(country.lower()))\n",
    "    return data"
   ]
  },
  {
   "cell_type": "code",
   "execution_count": null,
   "metadata": {},
   "outputs": [],
   "source": [
    "stats=getCountryStats()"
   ]
  },
  {
   "cell_type": "code",
   "execution_count": null,
   "metadata": {},
   "outputs": [],
   "source": [
    "mxStats=getCountryStats('Mexico')"
   ]
  },
  {
   "cell_type": "code",
   "execution_count": null,
   "metadata": {},
   "outputs": [],
   "source": [
    "spStats=getCountryStats('Spain')\n",
    "plt.yscale('linear')"
   ]
  },
  {
   "cell_type": "code",
   "execution_count": null,
   "metadata": {},
   "outputs": [],
   "source": [
    "plt.figure(figsize=(18,6))       \n",
    "mx=mxStats['Confirmed']['people']>0\n",
    "sp=spStats['Confirmed']['people']>0\n",
    "daysSp=np.arange(25)\n",
    "daysMx=np.arange(len(mxStats['Confirmed']['days'][mx]))\n",
    "plt.plot(daysSp,spStats['Confirmed']['people'][sp][11:36],'-o',label='Spain')\n",
    "plt.plot(daysMx,mxStats['Confirmed']['people'][mx],'-o',label='Mexico')\n",
    "plt.title('Mexico vs Spain - Confirmed Cases')\n",
    "plt.ylabel('Confirmed Cases')\n",
    "plt.xlabel('Days after First Confirmed')\n",
    "plt.grid()\n",
    "plt.legend()\n",
    "plt.savefig('Plots/spvsmx_confirmed.png')"
   ]
  },
  {
   "cell_type": "code",
   "execution_count": null,
   "metadata": {},
   "outputs": [],
   "source": [
    "plt.figure(figsize=(18,6))\n",
    "plt.title('Mexico vs Spain - Deaths')\n",
    "plt.plot(daysSp,spStats['Deaths']['people'][sp][11:36],'-o',label='Spain')\n",
    "plt.plot(daysMx,mxStats['Deaths']['people'][mx],'-o',label='Mexico')\n",
    "plt.ylabel('Deaths')\n",
    "plt.xlabel('Days after First Confirmed')\n",
    "plt.grid()\n",
    "plt.legend()\n",
    "plt.savefig('Plots/spvsmx_deaths.png')"
   ]
  }
 ],
 "metadata": {
  "kernelspec": {
   "display_name": "Python 3",
   "language": "python",
   "name": "python3"
  },
  "language_info": {
   "codemirror_mode": {
    "name": "ipython",
    "version": 3
   },
   "file_extension": ".py",
   "mimetype": "text/x-python",
   "name": "python",
   "nbconvert_exporter": "python",
   "pygments_lexer": "ipython3",
   "version": "3.7.4"
  }
 },
 "nbformat": 4,
 "nbformat_minor": 2
}
